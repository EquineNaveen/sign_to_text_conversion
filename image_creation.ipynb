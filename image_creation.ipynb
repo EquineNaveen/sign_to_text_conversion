{
 "cells": [
  {
   "cell_type": "code",
   "execution_count": 1,
   "metadata": {},
   "outputs": [],
   "source": [
    "import os\n",
    "import cv2"
   ]
  },
  {
   "cell_type": "code",
   "execution_count": 2,
   "metadata": {},
   "outputs": [
    {
     "name": "stdout",
     "output_type": "stream",
     "text": [
      "Collecting data for class 0\n",
      "Collecting data for class 1\n",
      "Collecting data for class 2\n"
     ]
    },
    {
     "ename": "KeyboardInterrupt",
     "evalue": "",
     "output_type": "error",
     "traceback": [
      "\u001b[1;31m---------------------------------------------------------------------------\u001b[0m",
      "\u001b[1;31mKeyboardInterrupt\u001b[0m                         Traceback (most recent call last)",
      "Cell \u001b[1;32mIn[2], line 43\u001b[0m\n\u001b[0;32m     41\u001b[0m     cv2\u001b[38;5;241m.\u001b[39mputText(frame, \u001b[38;5;124m'\u001b[39m\u001b[38;5;124mReady? Press \u001b[39m\u001b[38;5;124m\"\u001b[39m\u001b[38;5;124mQ\u001b[39m\u001b[38;5;124m\"\u001b[39m\u001b[38;5;124m ! :)\u001b[39m\u001b[38;5;124m'\u001b[39m, (\u001b[38;5;241m100\u001b[39m, \u001b[38;5;241m50\u001b[39m), cv2\u001b[38;5;241m.\u001b[39mFONT_HERSHEY_SIMPLEX, \u001b[38;5;241m1.3\u001b[39m, (\u001b[38;5;241m0\u001b[39m, \u001b[38;5;241m255\u001b[39m, \u001b[38;5;241m0\u001b[39m), \u001b[38;5;241m3\u001b[39m, cv2\u001b[38;5;241m.\u001b[39mLINE_AA)\n\u001b[0;32m     42\u001b[0m     cv2\u001b[38;5;241m.\u001b[39mimshow(\u001b[38;5;124m'\u001b[39m\u001b[38;5;124mframe\u001b[39m\u001b[38;5;124m'\u001b[39m, frame)\n\u001b[1;32m---> 43\u001b[0m     \u001b[38;5;28;01mif\u001b[39;00m \u001b[43mcv2\u001b[49m\u001b[38;5;241;43m.\u001b[39;49m\u001b[43mwaitKey\u001b[49m\u001b[43m(\u001b[49m\u001b[38;5;241;43m25\u001b[39;49m\u001b[43m)\u001b[49m \u001b[38;5;241m==\u001b[39m \u001b[38;5;28mord\u001b[39m(\u001b[38;5;124m'\u001b[39m\u001b[38;5;124mq\u001b[39m\u001b[38;5;124m'\u001b[39m):\n\u001b[0;32m     44\u001b[0m         \u001b[38;5;28;01mbreak\u001b[39;00m\n\u001b[0;32m     46\u001b[0m \u001b[38;5;66;03m# Capture dataset images\u001b[39;00m\n",
      "\u001b[1;31mKeyboardInterrupt\u001b[0m: "
     ]
    }
   ],
   "source": [
    "# Define constants\n",
    "DATA_DIR = 'artifacts/dat'\n",
    "number_of_classes = 28\n",
    "dataset_size = 200\n",
    "\n",
    "# Ensure data directory exists\n",
    "if not os.path.exists(DATA_DIR):\n",
    "    os.makedirs(DATA_DIR)\n",
    "\n",
    "def find_working_camera_index():\n",
    "    for index in range(5):\n",
    "        cap = cv2.VideoCapture(index)\n",
    "        if cap.isOpened():\n",
    "            cap.release()\n",
    "            return index\n",
    "    return None\n",
    "\n",
    "# Find a working camera index\n",
    "camera_index = find_working_camera_index()\n",
    "if camera_index is None:\n",
    "    print(\"Error: Could not find a working camera.\")\n",
    "else:\n",
    "    cap = cv2.VideoCapture(camera_index)\n",
    "    if not cap.isOpened():\n",
    "        print(\"Error: Could not open video device.\")\n",
    "    else:\n",
    "        for j in range(number_of_classes):\n",
    "            class_dir = os.path.join(DATA_DIR, str(j))\n",
    "            if not os.path.exists(class_dir):\n",
    "                os.makedirs(class_dir)\n",
    "\n",
    "            print('Collecting data for class {}'.format(j))\n",
    "\n",
    "            # Wait for user to be ready\n",
    "            while True:\n",
    "                ret, frame = cap.read()\n",
    "                if not ret:\n",
    "                    print(\"Error: Failed to capture image.\")\n",
    "                    break\n",
    "\n",
    "                cv2.putText(frame, 'Ready? Press \"Q\" ! :)', (100, 50), cv2.FONT_HERSHEY_SIMPLEX, 1.3, (0, 255, 0), 3, cv2.LINE_AA)\n",
    "                cv2.imshow('frame', frame)\n",
    "                if cv2.waitKey(25) == ord('q'):\n",
    "                    break\n",
    "\n",
    "            # Capture dataset images\n",
    "            counter = 0\n",
    "            while counter < dataset_size:\n",
    "                ret, frame = cap.read()\n",
    "                if not ret:\n",
    "                    print(\"Error: Failed to capture image.\")\n",
    "                    break\n",
    "\n",
    "                cv2.imshow('frame', frame)\n",
    "                cv2.waitKey(20)\n",
    "                cv2.imwrite(os.path.join(class_dir, '{}.jpg'.format(counter)), frame)\n",
    "                counter += 1\n",
    "                \n",
    "            if cv2.waitKey(1) & 0xFF == ord('s'):  # Press 'q' to exit the loop\n",
    "                break\n",
    "        cap.release()\n",
    "        cv2.destroyAllWindows()\n",
    "        cv2.waitKey(5)"
   ]
  },
  {
   "cell_type": "code",
   "execution_count": null,
   "metadata": {},
   "outputs": [],
   "source": []
  }
 ],
 "metadata": {
  "kernelspec": {
   "display_name": "sign",
   "language": "python",
   "name": "python3"
  },
  "language_info": {
   "codemirror_mode": {
    "name": "ipython",
    "version": 3
   },
   "file_extension": ".py",
   "mimetype": "text/x-python",
   "name": "python",
   "nbconvert_exporter": "python",
   "pygments_lexer": "ipython3",
   "version": "3.10.11"
  }
 },
 "nbformat": 4,
 "nbformat_minor": 2
}
